{
 "cells": [
  {
   "cell_type": "code",
   "execution_count": null,
   "id": "22068f9a",
   "metadata": {},
   "outputs": [],
   "source": [
    "# Gọi LLM (Gemini) để thực hiện chức năng phân loại\n",
    "\n",
    "def generate_answer(input_querry, context):\n",
    "    prompt = f\"\"\"\n",
    "    Bạn là trợ lý phân loại câu hỏi học thuật. Hãy xác định câu hỏi sau thuộc môn nào.\n",
    "\n",
    "    **Hướng dẫn phân loại:**\n",
    "    * **Lịch Sử Đảng**: Nếu câu hỏi liên quan đến lịch sử hình thành, các sự kiện quan trọng, các giai đoạn phát triển, các lãnh đạo, chủ trương, đường lối của Đảng Cộng sản Việt Nam.\n",
    "        * **Ví dụ**: \"Chiến dịch Điện Biên Phủ diễn ra vào thời gian nào?\", \"Nghị quyết Trung ương 4 khóa XII nói về vấn đề gì?\"\n",
    "    * **Triết Học Mác-Lênin**: Nếu câu hỏi liên quan đến các khái niệm, nguyên lý, quy luật của chủ nghĩa duy vật biện chứng, chủ nghĩa duy vật lịch sử, học thuyết giá trị thặng dư, và tư tưởng của Karl Marx, Friedrich Engels, Vladimir Lenin.\n",
    "        * **Ví dụ**: \"Mâu thuẫn là gì trong triết học biện chứng?\", \"Học thuyết hình thái kinh tế xã hội được hiểu như thế nào?\"\n",
    "\n",
    "    **Câu hỏi cần phân loại:** \"{input_querry}\"\n",
    "\n",
    "    **Chỉ trả lời bằng một trong ba từ sau:**\n",
    "    * `triet-hoc`\n",
    "    * `lich-su-dang`\n",
    "    * `unknown` (Nếu không xác định được câu hỏi thuộc môn nào trong hai môn trên)\n",
    "    \"\"\"\n",
    "\n",
    "    client = genai.Client(api_key=GEMINI_API_KEY)\n",
    "    response = client.models.generate_content(\n",
    "        model=\"gemini-2.5-flash\",\n",
    "        contents=prompt,\n",
    "    )\n",
    "\n",
    "    return response.text"
   ]
  }
 ],
 "metadata": {
  "kernelspec": {
   "display_name": "venv",
   "language": "python",
   "name": "python3"
  },
  "language_info": {
   "codemirror_mode": {
    "name": "ipython",
    "version": 3
   },
   "file_extension": ".py",
   "mimetype": "text/x-python",
   "name": "python",
   "nbconvert_exporter": "python",
   "pygments_lexer": "ipython3",
   "version": "3.12.7"
  }
 },
 "nbformat": 4,
 "nbformat_minor": 5
}
