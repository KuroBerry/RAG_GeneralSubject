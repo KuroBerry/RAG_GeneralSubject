{
 "cells": [
  {
   "cell_type": "code",
   "execution_count": 16,
   "id": "546f0a83",
   "metadata": {},
   "outputs": [],
   "source": [
    "from google import genai\n",
    "from google.genai import types\n",
    "import os, dotenv"
   ]
  },
  {
   "cell_type": "code",
   "execution_count": 11,
   "id": "438efd07",
   "metadata": {},
   "outputs": [],
   "source": [
    "dotenv.load_dotenv(\"../.env\")\n",
    "gemini_key = os.getenv(\"GEMINI_API_KEY\")"
   ]
  },
  {
   "cell_type": "code",
   "execution_count": null,
   "id": "22068f9a",
   "metadata": {},
   "outputs": [],
   "source": [
    "# Gọi LLM (Gemini) để thực hiện chức năng phân loại\n",
    "\n",
    "def generate_answer(input_querry, context):\n",
    "    prompt = f\"\"\"\n",
    "    Mày là một chuyên gia trong việc trả lời các môn học đại cương về chính trị bậc đại học không chính quy.\n",
    "    \n",
    "    Dưới đây chính là query của người dùng về các câu hỏi liên quan tới các môn chính trị. \n",
    "    {input_querry}\n",
    "    \n",
    "    Còn dưới đây là những context được cung cấp đên mày để trả lời câu hỏi của người dùng.\n",
    "    {context}\n",
    "    \n",
    "    Dựa vào nhưng thông tin trên, mày hãy thực hiện trả lời câu hỏi của người dùng. Chỉ trả lời theo nội dung context cung cấp. Nếu những nội dung đó không liên quan đến câu hỏi thì trả lời \"Context không liên quan\".\n",
    "    \"\"\"\n",
    "\n",
    "    client = genai.Client(api_key=gemini_key)\n",
    "    response = client.models.generate_content(\n",
    "        model=\"gemini-2.5-flash\",\n",
    "        contents=prompt,\n",
    "    )\n",
    "\n",
    "    return response.text"
   ]
  }
 ],
 "metadata": {
  "kernelspec": {
   "display_name": "Python 3",
   "language": "python",
   "name": "python3"
  },
  "language_info": {
   "codemirror_mode": {
    "name": "ipython",
    "version": 3
   },
   "file_extension": ".py",
   "mimetype": "text/x-python",
   "name": "python",
   "nbconvert_exporter": "python",
   "pygments_lexer": "ipython3",
   "version": "3.11.8"
  }
 },
 "nbformat": 4,
 "nbformat_minor": 5
}
