{
 "cells": [
  {
   "cell_type": "markdown",
   "id": "ea057ba6",
   "metadata": {},
   "source": [
    "# ***File dùng để Upsert các Vector đã được lưu ngoài file JSON lên PINECONE***"
   ]
  },
  {
   "cell_type": "code",
   "execution_count": 1,
   "id": "e4c6417c",
   "metadata": {},
   "outputs": [],
   "source": [
    "#Tạo đường dẫn chung để đọc utils\n",
    "import sys\n",
    "import os\n",
    "sys.path.append(os.path.abspath(os.path.join(os.getcwd(), '..')))"
   ]
  },
  {
   "cell_type": "code",
   "execution_count": 2,
   "id": "9102afcd",
   "metadata": {},
   "outputs": [],
   "source": [
    "# Tải các thư viện cần thiết\n",
    "import json\n",
    "from pinecone.grpc import PineconeGRPC as Pinecone\n",
    "from dotenv import load_dotenv\n",
    "import os\n",
    "from utils.load_chunks_json import load_chunks_from_json"
   ]
  },
  {
   "cell_type": "code",
   "execution_count": 3,
   "id": "2728ae57",
   "metadata": {},
   "outputs": [],
   "source": [
    "# Khởi tạo các biến cần thiết\n",
    "load_dotenv(\"../.env\")\n",
    "\n",
    "PINECONE_API_KEY = os.getenv(\"PINECONE_API_KEY\")\n",
    "HOST_DENSE = os.getenv(\"HOST_DENSE\")\n",
    "HOST_SPARSE = os.getenv(\"HOST_SPARSE\")"
   ]
  },
  {
   "cell_type": "code",
   "execution_count": 10,
   "id": "4dccd5b1",
   "metadata": {},
   "outputs": [
    {
     "name": "stdout",
     "output_type": "stream",
     "text": [
      "SỐ LƯỢNG CHUNKS ĐÃ TẢI:\n",
      "  LSD Dense (Parent): 347\n",
      "  LSD Sparse: 347\n",
      "  LSD Child Dense: 1971\n",
      "\n",
      "CẤU TRÚC CHILD CHUNK:\n",
      "  ID: LSD_chunk_00000_child_0\n",
      "  Parent ID: LSD_chunk_00000\n",
      "  Content length: 320 chars\n",
      "  Vector dimension: 1024\n"
     ]
    }
   ],
   "source": [
    "# # Đọc Dense và Sparse của môn Triết Học\n",
    "# TrietHoc_dense_vector = load_chunks_from_json(r\"./TrietHoc/TrietHoc_Dense_Global.json\")\n",
    "# TrietHoc_sparse_vector = load_chunks_from_json(r\"./TrietHoc/TrietHoc_Sparse_Global.json\")\n",
    "\n",
    "# Đọc Dense và Sparse của môn Lịch Sử Đảng\n",
    "LSD_dense_vector = load_chunks_from_json(r\"./LichSuDang/Lich_Su_Dang_Dense_Global.json\")\n",
    "LSD_sparse_vector = load_chunks_from_json(r\"./LichSuDang/Lich_Su_Dang_Sparse_Global.json\")\n",
    "\n",
    "# Đọc Child chunks cho Parent Document Retrieval\n",
    "LSD_child_dense_vector = load_chunks_from_json(r\"./LichSuDang/Lich_Su_Dang_Child_Dense_Optimal.json\")\n",
    "\n",
    "print(f\"SỐ LƯỢNG CHUNKS ĐÃ TẢI:\")\n",
    "# print(f\"  TrietHoc Dense: {len(TrietHoc_dense_vector)}\")\n",
    "# print(f\"  TrietHoc Sparse: {len(TrietHoc_sparse_vector)}\")\n",
    "print(f\"  LSD Dense (Parent): {len(LSD_dense_vector)}\")\n",
    "print(f\"  LSD Sparse: {len(LSD_sparse_vector)}\")\n",
    "print(f\"  LSD Child Dense: {len(LSD_child_dense_vector)}\")\n",
    "\n",
    "# Kiểm tra cấu trúc child chunk\n",
    "if LSD_child_dense_vector:\n",
    "    sample_child = LSD_child_dense_vector[0]\n",
    "    print(f\"\\nCẤU TRÚC CHILD CHUNK:\")\n",
    "    print(f\"  ID: {sample_child['id']}\")\n",
    "    print(f\"  Parent ID: {sample_child['metadata'].get('parent_id', 'N/A')}\")\n",
    "    print(f\"  Content length: {len(sample_child['metadata']['content'])} chars\")\n",
    "    print(f\"  Vector dimension: {len(sample_child['values'])}\")"
   ]
  },
  {
   "cell_type": "code",
   "execution_count": 11,
   "id": "749219ae",
   "metadata": {},
   "outputs": [],
   "source": [
    "pc = Pinecone(api_key=PINECONE_API_KEY)\n",
    "\n",
    "# Lấy ra Index của Dense Database\n",
    "dense_index = pc.Index(host=HOST_DENSE)\n",
    "\n",
    "# Lấy ra Index của Sparse Database\n",
    "sparse_index = pc.Index(host=HOST_SPARSE)"
   ]
  },
  {
   "cell_type": "markdown",
   "id": "c86ac671",
   "metadata": {},
   "source": [
    "## ***Upsert môn Triết Học***"
   ]
  },
  {
   "cell_type": "markdown",
   "id": "91442b43",
   "metadata": {},
   "source": [
    "## Hybrid search"
   ]
  },
  {
   "cell_type": "code",
   "execution_count": 18,
   "id": "5420343e",
   "metadata": {},
   "outputs": [],
   "source": [
    "# dense_index.upsert(\n",
    "#   vectors = TrietHoc_dense_vector,\n",
    "#   namespace=\"triet-hoc\"\n",
    "# )\n",
    "# sparse_index.upsert(\n",
    "#   vectors = TrietHoc_sparse_vector,\n",
    "#   namespace=\"triet-hoc\"\n",
    "# )"
   ]
  },
  {
   "cell_type": "markdown",
   "id": "0fdb93a1",
   "metadata": {},
   "source": [
    "## Children upsert cho Parent document retrieval"
   ]
  },
  {
   "cell_type": "code",
   "execution_count": 19,
   "id": "dd52e4a6",
   "metadata": {},
   "outputs": [],
   "source": [
    "# dense_index.upsert(\n",
    "#   vectors = TrietHoc_dense_vector,\n",
    "#   namespace=\"triet-hoc_children\"\n",
    "# )"
   ]
  },
  {
   "cell_type": "markdown",
   "id": "1349bb4d",
   "metadata": {},
   "source": [
    "## ***Upsert môn Lịch Sử Đảng***"
   ]
  },
  {
   "cell_type": "markdown",
   "id": "ba25410d",
   "metadata": {},
   "source": [
    "## Hybrid search"
   ]
  },
  {
   "cell_type": "code",
   "execution_count": 12,
   "id": "246db248",
   "metadata": {},
   "outputs": [
    {
     "data": {
      "text/plain": [
       "upserted_count: 347"
      ]
     },
     "execution_count": 12,
     "metadata": {},
     "output_type": "execute_result"
    }
   ],
   "source": [
    "dense_index.upsert(\n",
    "  vectors=LSD_dense_vector,\n",
    "  namespace=\"lich-su-dang\"\n",
    ")\n",
    "sparse_index.upsert(\n",
    "  vectors=LSD_sparse_vector,\n",
    "  namespace=\"lich-su-dang\"\n",
    ")"
   ]
  },
  {
   "cell_type": "markdown",
   "id": "f48420c3",
   "metadata": {},
   "source": [
    "## Children upsert cho Parent document retrieval"
   ]
  },
  {
   "cell_type": "code",
   "execution_count": null,
   "id": "84798223",
   "metadata": {},
   "outputs": [
    {
     "name": "stdout",
     "output_type": "stream",
     "text": [
      "🔍 KIỂM TRA CÁC BIẾN MÔI TRƯỜNG:\n",
      "PINECONE_API_KEY: ✅ Có\n",
      "HOST_DENSE: https://rag-ktcn-0abpzwm.svc.aped-4627-b74a.pinecone.io\n",
      "HOST_SPARSE: https://ktcn-rag-sparse-0abpzwm.svc.aped-4627-b74a.pinecone.io\n",
      "\n",
      "🔍 KIỂM TRA ĐƯỜNG DẪN FILE .env:\n",
      "File .env tại '../.env' tồn tại: True\n",
      "Đường dẫn tuyệt đối: d:\\Documents\\TDTU\\Kiến tập\\RAG_GeneralSubject\\.env\n",
      "\n",
      "📄 NỘI DUNG FILE .env:\n",
      "  GEMINI_API_KEY=<value>\n",
      "  PINECONE_API_KEY=<value>\n",
      "  HOST_DENSE=<value>\n",
      "  HOST_SPARSE=<value>\n"
     ]
    }
   ],
   "source": [
    "# Debug: Kiểm tra các biến môi trường\n",
    "print(\"KIỂM TRA CÁC BIẾN MÔI TRƯỜNG:\")\n",
    "print(f\"PINECONE_API_KEY: {'Có' if PINECONE_API_KEY else 'Không có'}\")\n",
    "print(f\"HOST_DENSE: {HOST_DENSE}\")\n",
    "print(f\"HOST_SPARSE: {HOST_SPARSE}\")\n",
    "\n",
    "print(f\"\\nKIỂM TRA ĐƯỜNG DẪN FILE .env:\")\n",
    "env_path = \"../.env\"\n",
    "import os\n",
    "print(f\"File .env tại '{env_path}' tồn tại: {os.path.exists(env_path)}\")\n",
    "print(f\"Đường dẫn tuyệt đối: {os.path.abspath(env_path)}\")\n",
    "\n",
    "# Thử đọc lại file .env\n",
    "if os.path.exists(env_path):\n",
    "    print(f\"\\nNỘI DUNG FILE .env:\")\n",
    "    with open(env_path, 'r') as f:\n",
    "        lines = f.readlines()\n",
    "        for line in lines:\n",
    "            if not line.strip().startswith('#') and '=' in line:\n",
    "                key = line.split('=')[0]\n",
    "                print(f\"  {key}=<value>\")\n",
    "else:\n",
    "    print(f\"\\nFile .env không tồn tại tại: {os.path.abspath(env_path)}\")"
   ]
  },
  {
   "cell_type": "code",
   "execution_count": 14,
   "id": "d27d41bd",
   "metadata": {},
   "outputs": [
    {
     "name": "stdout",
     "output_type": "stream",
     "text": [
      "DEBUG UPSERT PROCESS\n",
      "==================================================\n",
      "✓ Kết nối Pinecone thành công\n",
      "Index stats: {'dimension': 1024,\n",
      " 'index_fullness': 0.0,\n",
      " 'namespaces': {'lich-su-dang': {'vector_count': 347},\n",
      "                'triet-hoc': {'vector_count': 397}},\n",
      " 'total_vector_count': 744}\n",
      "\n",
      "KIỂM TRA DỮ LIỆU:\n",
      "✓ LSD_child_dense_vector đã được load: 1971 chunks\n",
      "Sample chunk structure:\n",
      "  Keys: ['id', 'values', 'metadata']\n",
      "  ID: LSD_chunk_00000_child_0\n",
      "  Values length: 1024\n",
      "  Metadata keys: ['content', 'subject', 'section', 'section_title', 'tokens', 'type', 'child_index', 'chapter', 'chapter_title', 'subsection', 'original_structure', 'parent_id', 'subsection_title']\n",
      "\n",
      "TEST UPSERT 1 CHUNK:\n",
      "✓ Test upsert thành công: upserted_count: 1\n",
      "\n",
      "\n",
      "NAMESPACE HIỆN TẠI:\n",
      "  lich-su-dang-children-test: 0 vectors\n",
      "  lich-su-dang: 347 vectors\n",
      "  triet-hoc: 397 vectors\n"
     ]
    }
   ],
   "source": [
    "# DEBUG UPSERT ERROR\n",
    "print(\"DEBUG UPSERT PROCESS\")\n",
    "print(\"=\"*50)\n",
    "\n",
    "# 1. Kiểm tra connection\n",
    "try:\n",
    "    stats = dense_index.describe_index_stats()\n",
    "    print(\"✓ Kết nối Pinecone thành công\")\n",
    "    print(f\"Index stats: {stats}\")\n",
    "except Exception as e:\n",
    "    print(f\"❌ Lỗi kết nối Pinecone: {e}\")\n",
    "    exit()\n",
    "\n",
    "# 2. Kiểm tra biến LSD_child_dense_vector\n",
    "print(f\"\\nKIỂM TRA DỮ LIỆU:\")\n",
    "if 'LSD_child_dense_vector' in locals() or 'LSD_child_dense_vector' in globals():\n",
    "    print(f\"✓ LSD_child_dense_vector đã được load: {len(LSD_child_dense_vector)} chunks\")\n",
    "    \n",
    "    # Kiểm tra cấu trúc chunk đầu tiên\n",
    "    if LSD_child_dense_vector:\n",
    "        sample = LSD_child_dense_vector[0]\n",
    "        print(f\"Sample chunk structure:\")\n",
    "        print(f\"  Keys: {list(sample.keys())}\")\n",
    "        print(f\"  ID: {sample.get('id', 'N/A')}\")\n",
    "        print(f\"  Values length: {len(sample.get('values', []))}\")\n",
    "        print(f\"  Metadata keys: {list(sample.get('metadata', {}).keys())}\")\n",
    "    else:\n",
    "        print(\"❌ LSD_child_dense_vector rỗng\")\n",
    "else:\n",
    "    print(\"❌ LSD_child_dense_vector chưa được load\")\n",
    "\n",
    "# 3. Test upsert một chunk đơn lẻ\n",
    "if LSD_child_dense_vector:\n",
    "    print(f\"\\nTEST UPSERT 1 CHUNK:\")\n",
    "    try:\n",
    "        test_chunk = [LSD_child_dense_vector[0]]  # Chỉ lấy 1 chunk để test\n",
    "        response = dense_index.upsert(\n",
    "            vectors=test_chunk,\n",
    "            namespace=\"lich-su-dang-children-test\"  # Test namespace riêng\n",
    "        )\n",
    "        print(f\"✓ Test upsert thành công: {response}\")\n",
    "    except Exception as e:\n",
    "        print(f\"❌ Test upsert thất bại: {e}\")\n",
    "        print(f\"Error type: {type(e)}\")\n",
    "        import traceback\n",
    "        print(f\"Traceback: {traceback.format_exc()}\")\n",
    "\n",
    "# 4. Kiểm tra namespace hiện tại\n",
    "print(f\"\\nNAMESPACE HIỆN TẠI:\")\n",
    "try:\n",
    "    stats = dense_index.describe_index_stats()\n",
    "    for namespace, info in stats.namespaces.items():\n",
    "        print(f\"  {namespace}: {info.vector_count} vectors\")\n",
    "except Exception as e:\n",
    "    print(f\"❌ Không thể lấy stats: {e}\")"
   ]
  },
  {
   "cell_type": "code",
   "execution_count": 15,
   "id": "42f9d0e1",
   "metadata": {},
   "outputs": [
    {
     "name": "stdout",
     "output_type": "stream",
     "text": [
      "UPSERT CHILD CHUNKS VỚI BATCH SIZE NHỎ\n",
      "==================================================\n",
      "✓ Đã xóa test namespace\n",
      "Warning: UNKNOWN:Error received from peer  {created_time:\"2025-07-14T04:38:43.5923989+00:00\", grpc_status:5, grpc_message:\"Namespace not found\"}\n",
      "Bắt đầu upsert 1971 chunks...\n",
      "Upsert batch 1/40 (50 chunks)... ✓ 50\n",
      "Upsert batch 2/40 (50 chunks)... ✓ 50\n",
      "Upsert batch 3/40 (50 chunks)... ✓ 50\n",
      "Upsert batch 4/40 (50 chunks)... ✓ 50\n",
      "Upsert batch 5/40 (50 chunks)... ✓ 50\n",
      "Upsert batch 6/40 (50 chunks)... ✓ 50\n",
      "Upsert batch 7/40 (50 chunks)... ✓ 50\n",
      "Upsert batch 8/40 (50 chunks)... ✓ 50\n",
      "Upsert batch 9/40 (50 chunks)... ✓ 50\n",
      "Upsert batch 10/40 (50 chunks)... ✓ 50\n",
      "Upsert batch 11/40 (50 chunks)... ✓ 50\n",
      "Upsert batch 12/40 (50 chunks)... ✓ 50\n",
      "Upsert batch 13/40 (50 chunks)... ✓ 50\n",
      "Upsert batch 14/40 (50 chunks)... ✓ 50\n",
      "Upsert batch 15/40 (50 chunks)... ✓ 50\n",
      "Upsert batch 16/40 (50 chunks)... ✓ 50\n",
      "Upsert batch 17/40 (50 chunks)... ✓ 50\n",
      "Upsert batch 18/40 (50 chunks)... ✓ 50\n",
      "Upsert batch 19/40 (50 chunks)... ✓ 50\n",
      "Upsert batch 20/40 (50 chunks)... ✓ 50\n",
      "Upsert batch 21/40 (50 chunks)... ✓ 50\n",
      "Upsert batch 22/40 (50 chunks)... ✓ 50\n",
      "Upsert batch 23/40 (50 chunks)... ✓ 50\n",
      "Upsert batch 24/40 (50 chunks)... ✓ 50\n",
      "Upsert batch 25/40 (50 chunks)... ✓ 50\n",
      "Upsert batch 26/40 (50 chunks)... ✓ 50\n",
      "Upsert batch 27/40 (50 chunks)... ✓ 50\n",
      "Upsert batch 28/40 (50 chunks)... ✓ 50\n",
      "Upsert batch 29/40 (50 chunks)... ✓ 50\n",
      "Upsert batch 30/40 (50 chunks)... ✓ 50\n",
      "Upsert batch 31/40 (50 chunks)... ✓ 50\n",
      "Upsert batch 32/40 (50 chunks)... ✓ 50\n",
      "Upsert batch 33/40 (50 chunks)... ✓ 50\n",
      "Upsert batch 34/40 (50 chunks)... ✓ 50\n",
      "Upsert batch 35/40 (50 chunks)... ✓ 50\n",
      "Upsert batch 36/40 (50 chunks)... ✓ 50\n",
      "Upsert batch 37/40 (50 chunks)... ✓ 50\n",
      "Upsert batch 38/40 (50 chunks)... ✓ 50\n",
      "Upsert batch 39/40 (50 chunks)... ✓ 50\n",
      "Upsert batch 40/40 (21 chunks)... ✓ 21\n",
      "\n",
      "KẾT QUẢ:\n",
      "Total upserted: 1971/1971\n",
      "Success rate: 100.0%\n",
      "✓ All batches successful!\n",
      "\n",
      "KIỂM TRA NAMESPACE:\n",
      "  lich-su-dang-children: 1950 vectors\n",
      "\n",
      "🎉 HOÀN THÀNH! Đã upsert thành công tất cả 1971 chunks!\n"
     ]
    }
   ],
   "source": [
    "# UPSERT VỚI BATCH SIZE NHỎ VÀ ERROR HANDLING\n",
    "print(\"UPSERT CHILD CHUNKS VỚI BATCH SIZE NHỎ\")\n",
    "print(\"=\"*50)\n",
    "\n",
    "# Xóa namespace test trước\n",
    "try:\n",
    "    dense_index.delete(delete_all=True, namespace=\"lich-su-dang-children-test\")\n",
    "    print(\"✓ Đã xóa test namespace\")\n",
    "except:\n",
    "    pass\n",
    "\n",
    "# Xóa namespace chính để bắt đầu fresh\n",
    "try:\n",
    "    dense_index.delete(delete_all=True, namespace=\"lich-su-dang-children\")\n",
    "    print(\"✓ Đã xóa namespace 'lich-su-dang-children'\")\n",
    "except Exception as e:\n",
    "    print(f\"Warning: {e}\")\n",
    "\n",
    "print(f\"Bắt đầu upsert {len(LSD_child_dense_vector)} chunks...\")\n",
    "\n",
    "# Upsert với batch size nhỏ hơn\n",
    "batch_size = 50  # Giảm từ 100 xuống 50\n",
    "total_upserted = 0\n",
    "failed_batches = []\n",
    "\n",
    "import time\n",
    "\n",
    "for i in range(0, len(LSD_child_dense_vector), batch_size):\n",
    "    batch = LSD_child_dense_vector[i:i+batch_size]\n",
    "    batch_num = i // batch_size + 1\n",
    "    total_batches = (len(LSD_child_dense_vector) + batch_size - 1) // batch_size\n",
    "    \n",
    "    try:\n",
    "        print(f\"Upsert batch {batch_num}/{total_batches} ({len(batch)} chunks)...\", end=\" \")\n",
    "        \n",
    "        # Upsert batch\n",
    "        response = dense_index.upsert(\n",
    "            vectors=batch,\n",
    "            namespace=\"lich-su-dang-children\"\n",
    "        )\n",
    "        \n",
    "        total_upserted += response.upserted_count\n",
    "        print(f\"✓ {response.upserted_count}\")\n",
    "        \n",
    "        # Kiểm tra nếu không upsert được hết\n",
    "        if response.upserted_count != len(batch):\n",
    "            print(f\"  ⚠ Warning: Expected {len(batch)}, got {response.upserted_count}\")\n",
    "            failed_batches.append(batch_num)\n",
    "        \n",
    "        # Thêm delay nhỏ để tránh rate limiting\n",
    "        time.sleep(0.1)\n",
    "        \n",
    "    except Exception as e:\n",
    "        print(f\"❌ Error: {e}\")\n",
    "        failed_batches.append(batch_num)\n",
    "        \n",
    "        # Thử upsert từng chunk một trong batch bị lỗi\n",
    "        print(f\"  Trying individual chunks in batch {batch_num}...\")\n",
    "        for j, chunk in enumerate(batch):\n",
    "            try:\n",
    "                individual_response = dense_index.upsert(\n",
    "                    vectors=[chunk],\n",
    "                    namespace=\"lich-su-dang-children\"\n",
    "                )\n",
    "                total_upserted += individual_response.upserted_count\n",
    "                if j % 10 == 0:  # Print progress mỗi 10 chunks\n",
    "                    print(f\"    Chunk {j+1}/{len(batch)}\")\n",
    "            except Exception as individual_error:\n",
    "                print(f\"    ❌ Failed chunk {j+1}: {individual_error}\")\n",
    "\n",
    "print(f\"\\nKẾT QUẢ:\")\n",
    "print(f\"Total upserted: {total_upserted}/{len(LSD_child_dense_vector)}\")\n",
    "print(f\"Success rate: {total_upserted/len(LSD_child_dense_vector)*100:.1f}%\")\n",
    "\n",
    "if failed_batches:\n",
    "    print(f\"Failed batches: {failed_batches}\")\n",
    "else:\n",
    "    print(\"✓ All batches successful!\")\n",
    "\n",
    "# Kiểm tra kết quả cuối cùng\n",
    "print(f\"\\nKIỂM TRA NAMESPACE:\")\n",
    "stats = dense_index.describe_index_stats()\n",
    "for namespace, info in stats.namespaces.items():\n",
    "    if 'lich-su-dang-children' in namespace:\n",
    "        print(f\"  {namespace}: {info.vector_count} vectors\")\n",
    "\n",
    "if total_upserted == len(LSD_child_dense_vector):\n",
    "    print(f\"\\n🎉 HOÀN THÀNH! Đã upsert thành công tất cả {total_upserted} chunks!\")\n",
    "else:\n",
    "    missing = len(LSD_child_dense_vector) - total_upserted\n",
    "    print(f\"\\n⚠ Thiếu {missing} chunks. Có thể cần retry.\")"
   ]
  }
 ],
 "metadata": {
  "kernelspec": {
   "display_name": "Python 3",
   "language": "python",
   "name": "python3"
  },
  "language_info": {
   "codemirror_mode": {
    "name": "ipython",
    "version": 3
   },
   "file_extension": ".py",
   "mimetype": "text/x-python",
   "name": "python",
   "nbconvert_exporter": "python",
   "pygments_lexer": "ipython3",
   "version": "3.11.8"
  }
 },
 "nbformat": 4,
 "nbformat_minor": 5
}
