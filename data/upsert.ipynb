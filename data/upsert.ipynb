{
 "cells": [
  {
   "cell_type": "markdown",
   "id": "ea057ba6",
   "metadata": {},
   "source": [
    "# ***File dùng để Upsert các Vector đã được lưu ngoài file JSON lên PINECONE***"
   ]
  },
  {
   "cell_type": "code",
   "execution_count": 16,
   "id": "9102afcd",
   "metadata": {},
   "outputs": [],
   "source": [
    "# Tải các thư viện cần thiết\n",
    "import json\n",
    "\n",
    "from pinecone.grpc import PineconeGRPC as Pinecone"
   ]
  },
  {
   "cell_type": "code",
   "execution_count": 17,
   "id": "2728ae57",
   "metadata": {},
   "outputs": [],
   "source": [
    "# Khởi tạo các biến cần thiết\n",
    "API_KEY = \"pcsk_6Gv7LH_HK8eSqMfipJ6xn6GX33ghLrPJDPvLHkFbgnpyy5tnLWkeMLjt7n7ZPnbbyjisAX\"\n",
    "HOST_DENSE = \"https://rag-subjects-dense-y0c06t1.svc.aped-4627-b74a.pinecone.io\"\n",
    "HOST_SPARSE = \"https://rag-subjects-sparse-y0c06t1.svc.aped-4627-b74a.pinecone.io\""
   ]
  },
  {
   "cell_type": "code",
   "execution_count": 18,
   "id": "47159b04",
   "metadata": {},
   "outputs": [],
   "source": [
    "# Đọc các file JSON\n",
    "#Tạo hàm đọc\n",
    "def load_chunks_from_json(file_path):\n",
    "    with open(file_path, \"r\", encoding=\"utf-8\") as f:\n",
    "        chunks = json.load(f)\n",
    "    return chunks"
   ]
  },
  {
   "cell_type": "code",
   "execution_count": 19,
   "id": "4dccd5b1",
   "metadata": {},
   "outputs": [],
   "source": [
    "# Đọc Dense và Sparse của môn Triết Học\n",
    "TrietHoc_dense_vector = load_chunks_from_json(r\"./TrietHoc/TrietHoc_Dense.json\")\n",
    "TrietHoc_sparse_vector = load_chunks_from_json(r\"./TrietHoc/TrietHoc_Sparse.json\")\n",
    "\n",
    "# Đọc Dense và Sparse của môn Lịch Sử Đảng\n",
    "LSD_dense_vector = load_chunks_from_json(r\"./LichSuDang/Lich_Su_Dang_Dense.json\")\n",
    "LSD_sparse_vector = load_chunks_from_json(r\"./LichSuDang/Lich_Su_Dang_Sparse.json\")"
   ]
  },
  {
   "cell_type": "code",
   "execution_count": 20,
   "id": "749219ae",
   "metadata": {},
   "outputs": [],
   "source": [
    "pc = Pinecone(api_key=API_KEY)\n",
    "\n",
    "# Lấy ra Index của Dense Database\n",
    "dense_index = pc.Index(host=HOST_DENSE)\n",
    "\n",
    "# Lấy ra Index của Sparse Database\n",
    "sparse_index = pc.Index(host=HOST_SPARSE)"
   ]
  },
  {
   "cell_type": "markdown",
   "id": "c86ac671",
   "metadata": {},
   "source": [
    "## ***Upsert môn Triết Học***"
   ]
  },
  {
   "cell_type": "code",
   "execution_count": 21,
   "id": "5420343e",
   "metadata": {},
   "outputs": [
    {
     "data": {
      "text/plain": [
       "upserted_count: 400"
      ]
     },
     "execution_count": 21,
     "metadata": {},
     "output_type": "execute_result"
    }
   ],
   "source": [
    "dense_index.upsert(\n",
    "  vectors = TrietHoc_dense_vector,\n",
    "  namespace=\"triet-hoc\"\n",
    ")\n",
    "sparse_index.upsert(\n",
    "  vectors = TrietHoc_sparse_vector,\n",
    "  namespace=\"triet-hoc\"\n",
    ")"
   ]
  },
  {
   "cell_type": "markdown",
   "id": "1349bb4d",
   "metadata": {},
   "source": [
    "## ***Upsert môn Lịch Sử Đảng***"
   ]
  },
  {
   "cell_type": "code",
   "execution_count": 22,
   "id": "246db248",
   "metadata": {},
   "outputs": [
    {
     "data": {
      "text/plain": [
       "upserted_count: 347"
      ]
     },
     "execution_count": 22,
     "metadata": {},
     "output_type": "execute_result"
    }
   ],
   "source": [
    "dense_index.upsert(\n",
    "  vectors=LSD_dense_vector,\n",
    "  namespace=\"lich-su-dang\"\n",
    ")\n",
    "sparse_index.upsert(\n",
    "  vectors=LSD_sparse_vector,\n",
    "  namespace=\"lich-su-dang\"\n",
    ")"
   ]
  },
  {
   "cell_type": "markdown",
   "id": "db4344a7",
   "metadata": {},
   "source": [
    "## ***Upsert môn Tư Tưởng Hồ Chí Minh***"
   ]
  },
  {
   "cell_type": "code",
   "execution_count": 23,
   "id": "c7c99779",
   "metadata": {},
   "outputs": [],
   "source": [
    "## Updating......"
   ]
  }
 ],
 "metadata": {
  "kernelspec": {
   "display_name": "venv",
   "language": "python",
   "name": "python3"
  },
  "language_info": {
   "codemirror_mode": {
    "name": "ipython",
    "version": 3
   },
   "file_extension": ".py",
   "mimetype": "text/x-python",
   "name": "python",
   "nbconvert_exporter": "python",
   "pygments_lexer": "ipython3",
   "version": "3.12.7"
  }
 },
 "nbformat": 4,
 "nbformat_minor": 5
}
