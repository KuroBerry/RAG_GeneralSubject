{
 "cells": [
  {
   "cell_type": "markdown",
   "id": "f9507cd9",
   "metadata": {},
   "source": [
    "# Sửa lỗi Duplicate IDs trong Child Chunks\n",
    "Notebook này tạo lại child chunks với IDs unique hoàn toàn"
   ]
  },
  {
   "cell_type": "code",
   "execution_count": 1,
   "id": "0259ea0d",
   "metadata": {},
   "outputs": [
    {
     "name": "stdout",
     "output_type": "stream",
     "text": [
      "WARNING:tensorflow:From c:\\Users\\Duongw\\AppData\\Local\\Programs\\Python\\Python311\\Lib\\site-packages\\tf_keras\\src\\losses.py:2976: The name tf.losses.sparse_softmax_cross_entropy is deprecated. Please use tf.compat.v1.losses.sparse_softmax_cross_entropy instead.\n",
      "\n",
      "Đã thêm đường dẫn: d:\\Documents\\TDTU\\Kiến tập\\RAG_GeneralSubject\n",
      "Thư mục hiện tại: d:\\Documents\\TDTU\\Kiến tập\\RAG_GeneralSubject\\data\\LichSuDang\n"
     ]
    }
   ],
   "source": [
    "# Import dependencies\n",
    "import sys\n",
    "import os\n",
    "import json\n",
    "\n",
    "# Đường dẫn tới thư mục gốc\n",
    "project_root = os.path.abspath(os.path.join(os.getcwd(), '..', '..'))\n",
    "sys.path.append(project_root)\n",
    "\n",
    "from langchain.text_splitter import RecursiveCharacterTextSplitter\n",
    "from sentence_transformers import SentenceTransformer\n",
    "import numpy as np\n",
    "from utils.load_chunks_json import load_chunks_from_json\n",
    "from utils.save_chunks_json import save_chunks_to_json\n",
    "\n",
    "print(f\"Đã thêm đường dẫn: {project_root}\")\n",
    "print(f\"Thư mục hiện tại: {os.getcwd()}\")"
   ]
  },
  {
   "cell_type": "code",
   "execution_count": 2,
   "id": "b772015a",
   "metadata": {},
   "outputs": [
    {
     "name": "stdout",
     "output_type": "stream",
     "text": [
      "Đã load 347 parent chunks\n",
      "Đã khởi tạo embedding model: 1024 dimensions\n"
     ]
    }
   ],
   "source": [
    "# Load parent chunks\n",
    "dense_chunk = load_chunks_from_json(\"Lich_Su_Dang_Dense.json\")\n",
    "print(f\"Đã load {len(dense_chunk)} parent chunks\")\n",
    "\n",
    "# Khởi tạo embedding model\n",
    "embedding_model = SentenceTransformer(\"AITeamVN/Vietnamese_Embedding\")\n",
    "embedding_model.max_seq_length = 2048\n",
    "print(f\"Đã khởi tạo embedding model: {embedding_model.get_sentence_embedding_dimension()} dimensions\")"
   ]
  },
  {
   "cell_type": "code",
   "execution_count": 3,
   "id": "5d320f8c",
   "metadata": {},
   "outputs": [
    {
     "name": "stdout",
     "output_type": "stream",
     "text": [
      "Đã định nghĩa hàm create_parent_document_chunks_unique\n"
     ]
    }
   ],
   "source": [
    "def create_parent_document_chunks_unique(parent_chunks, embedding_model, child_chunk_size=450, overlap=75):\n",
    "    \"\"\"\n",
    "    Tạo child chunks từ parent chunks với embedding và IDs hoàn toàn unique\n",
    "    \n",
    "    Args:\n",
    "        parent_chunks: Danh sách parent chunks từ file Dense.json\n",
    "        embedding_model: Model embedding để tạo vector cho child chunks\n",
    "        child_chunk_size: Kích thước tối đa của mỗi child chunk (ký tự)\n",
    "        overlap: Độ overlap giữa các child chunks\n",
    "    \n",
    "    Returns:\n",
    "        child_chunks: Danh sách child chunks với embedding\n",
    "    \"\"\"\n",
    "    child_chunks = []\n",
    "    global_child_counter = 0  # Đảm bảo ID hoàn toàn unique\n",
    "    \n",
    "    # Khởi tạo text splitter cho child chunks\n",
    "    splitter = RecursiveCharacterTextSplitter(\n",
    "        chunk_size=child_chunk_size,\n",
    "        chunk_overlap=overlap,\n",
    "        separators=[\"\\n\\n\", \"\\n\", \".\", \"!\", \"?\", \" \", \"\"]\n",
    "    )\n",
    "    \n",
    "    for parent_chunk in parent_chunks:\n",
    "        parent_id = parent_chunk['id']\n",
    "        content = parent_chunk['metadata']['content']\n",
    "        \n",
    "        # Chỉ chunk những parent có content dài > child_chunk_size\n",
    "        if len(content) <= child_chunk_size:\n",
    "            # Nếu parent đủ ngắn, giữ nguyên nhưng sử dụng global counter\n",
    "            child_chunk = {\n",
    "                \"id\": f\"LSD_child_{global_child_counter:05d}\",  # Format: LSD_child_00001\n",
    "                \"values\": embedding_model.encode(content).tolist(),\n",
    "                \"metadata\": {\n",
    "                    **parent_chunk['metadata'],  # Copy toàn bộ metadata từ parent\n",
    "                    \"parent_id\": parent_id,\n",
    "                    \"child_index\": 0,\n",
    "                    \"global_child_id\": global_child_counter\n",
    "                }\n",
    "            }\n",
    "            child_chunks.append(child_chunk)\n",
    "            global_child_counter += 1\n",
    "        else:\n",
    "            # Chunk content thành nhiều phần nhỏ\n",
    "            sub_contents = splitter.split_text(content)\n",
    "            \n",
    "            for i, sub_content in enumerate(sub_contents):\n",
    "                child_chunk = {\n",
    "                    \"id\": f\"LSD_child_{global_child_counter:05d}\",  # Format: LSD_child_00001\n",
    "                    \"values\": embedding_model.encode(sub_content.strip()).tolist(),\n",
    "                    \"metadata\": {\n",
    "                        **parent_chunk['metadata'],  # Copy toàn bộ metadata từ parent\n",
    "                        \"content\": sub_content.strip(),  # Override content với sub_content\n",
    "                        \"parent_id\": parent_id,\n",
    "                        \"child_index\": i,\n",
    "                        \"tokens\": len(sub_content.strip()),  # Update token count\n",
    "                        \"global_child_id\": global_child_counter\n",
    "                    }\n",
    "                }\n",
    "                child_chunks.append(child_chunk)\n",
    "                global_child_counter += 1\n",
    "    \n",
    "    return child_chunks\n",
    "\n",
    "print(\"Đã định nghĩa hàm create_parent_document_chunks_unique\")"
   ]
  },
  {
   "cell_type": "code",
   "execution_count": 4,
   "id": "6aa691dc",
   "metadata": {},
   "outputs": [
    {
     "name": "stdout",
     "output_type": "stream",
     "text": [
      "TẠOA CHILD CHUNKS VỚI IDs HOÀN TOÀN UNIQUE\n",
      "==================================================\n"
     ]
    },
    {
     "name": "stderr",
     "output_type": "stream",
     "text": [
      "c:\\Users\\Duongw\\AppData\\Local\\Programs\\Python\\Python311\\Lib\\site-packages\\transformers\\models\\xlm_roberta\\modeling_xlm_roberta.py:371: UserWarning: 1Torch was not compiled with flash attention. (Triggered internally at ..\\aten\\src\\ATen\\native\\transformers\\cuda\\sdp_utils.cpp:263.)\n",
      "  attn_output = torch.nn.functional.scaled_dot_product_attention(\n"
     ]
    },
    {
     "name": "stdout",
     "output_type": "stream",
     "text": [
      "Hoàn thành! Đã tạo 1971 child chunks\n",
      "\n",
      "KIỂM TRA UNIQUE:\n",
      "Tổng số chunks: 1971\n",
      "Số IDs unique: 1971\n",
      "✓ Tất cả IDs đều hoàn toàn unique!\n",
      "\n",
      "Mẫu IDs mới:\n",
      "  LSD_child_00000 (parent: LSD_chuongnhapmon_0_0_0)\n",
      "  LSD_child_00001 (parent: LSD_chuongnhapmon_0_0_0)\n",
      "  LSD_child_00002 (parent: LSD_chuongnhapmon_0_0_0)\n",
      "  LSD_child_00003 (parent: LSD_chuongnhapmon_0_0_0)\n",
      "  LSD_child_00004 (parent: LSD_chuongnhapmon_0_0_0)\n",
      "  LSD_child_00005 (parent: LSD_chuongnhapmon_0_0_0)\n",
      "  LSD_child_00006 (parent: LSD_chuongnhapmon_0_0_1)\n",
      "  LSD_child_00007 (parent: LSD_chuongnhapmon_I_0_0)\n",
      "  LSD_child_00008 (parent: LSD_chuongnhapmon_0_0_0)\n",
      "  LSD_child_00009 (parent: LSD_chuongnhapmon_0_0_0)\n"
     ]
    }
   ],
   "source": [
    "# Tạo child chunks với IDs hoàn toàn unique\n",
    "print(\"TẠOA CHILD CHUNKS VỚI IDs HOÀN TOÀN UNIQUE\")\n",
    "print(\"=\"*50)\n",
    "\n",
    "child_chunks_unique = create_parent_document_chunks_unique(\n",
    "    parent_chunks=dense_chunk,\n",
    "    embedding_model=embedding_model,\n",
    "    child_chunk_size=450,  # Sử dụng tham số tối ưu\n",
    "    overlap=75\n",
    ")\n",
    "\n",
    "print(f\"Hoàn thành! Đã tạo {len(child_chunks_unique)} child chunks\")\n",
    "\n",
    "# Kiểm tra IDs có unique không\n",
    "chunk_ids_unique = [chunk['id'] for chunk in child_chunks_unique]\n",
    "unique_ids_set = set(chunk_ids_unique)\n",
    "\n",
    "print(f\"\\nKIỂM TRA UNIQUE:\")\n",
    "print(f\"Tổng số chunks: {len(child_chunks_unique)}\")\n",
    "print(f\"Số IDs unique: {len(unique_ids_set)}\")\n",
    "\n",
    "if len(chunk_ids_unique) == len(unique_ids_set):\n",
    "    print(\"✓ Tất cả IDs đều hoàn toàn unique!\")\n",
    "else:\n",
    "    print(f\"⚠ Vẫn có {len(chunk_ids_unique) - len(unique_ids_set)} IDs bị duplicate\")\n",
    "\n",
    "# Hiển thị một số IDs mẫu\n",
    "print(f\"\\nMẫu IDs mới:\")\n",
    "for i in range(min(10, len(child_chunks_unique))):\n",
    "    chunk = child_chunks_unique[i]\n",
    "    print(f\"  {chunk['id']} (parent: {chunk['metadata']['parent_id']})\")"
   ]
  },
  {
   "cell_type": "code",
   "execution_count": 6,
   "id": "3c54a44b",
   "metadata": {},
   "outputs": [
    {
     "name": "stdout",
     "output_type": "stream",
     "text": [
      "Đã lưu 1971 child chunks vào file: Lich_Su_Dang_Child_Dense_Unique.json\n",
      "Sẵn sàng để upsert lại vào Pinecone!\n",
      "\n",
      "THỐNG KÊ:\n",
      "Độ dài trung bình: 327.17 ký tự\n",
      "Độ dài min: 1 ký tự\n",
      "Độ dài max: 450 ký tự\n"
     ]
    }
   ],
   "source": [
    "# Lưu file mới\n",
    "output_file = \"Lich_Su_Dang_Child_Dense_Unique.json\"\n",
    "\n",
    "# Lưu trực tiếp bằng json\n",
    "with open(output_file, \"w\", encoding=\"utf-8\") as f:\n",
    "    json.dump(child_chunks_unique, f, ensure_ascii=False, indent=2)\n",
    "\n",
    "print(f\"Đã lưu {len(child_chunks_unique)} child chunks vào file: {output_file}\")\n",
    "print(\"Sẵn sàng để upsert lại vào Pinecone!\")\n",
    "\n",
    "# Thống kê nhanh\n",
    "child_content_lengths = [len(chunk['metadata']['content']) for chunk in child_chunks_unique]\n",
    "print(f\"\\nTHỐNG KÊ:\")\n",
    "print(f\"Độ dài trung bình: {np.mean(child_content_lengths):.2f} ký tự\")\n",
    "print(f\"Độ dài min: {min(child_content_lengths)} ký tự\")\n",
    "print(f\"Độ dài max: {max(child_content_lengths)} ký tự\")"
   ]
  }
 ],
 "metadata": {
  "kernelspec": {
   "display_name": "Python 3",
   "language": "python",
   "name": "python3"
  },
  "language_info": {
   "codemirror_mode": {
    "name": "ipython",
    "version": 3
   },
   "file_extension": ".py",
   "mimetype": "text/x-python",
   "name": "python",
   "nbconvert_exporter": "python",
   "pygments_lexer": "ipython3",
   "version": "3.11.8"
  }
 },
 "nbformat": 4,
 "nbformat_minor": 5
}
