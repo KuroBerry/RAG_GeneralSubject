{
 "cells": [
  {
   "cell_type": "markdown",
   "id": "c4868793",
   "metadata": {},
   "source": [
    "# Parent Document Retrieval\n",
    "Hệ thống retrieval sử dụng child chunks để tìm kiếm và trả về parent chunks với đầy đủ context"
   ]
  },
  {
   "cell_type": "code",
   "execution_count": 1,
   "id": "213f7535",
   "metadata": {},
   "outputs": [],
   "source": [
    "# Tạo đường dẫn chung để đọc utils\n",
    "import sys\n",
    "import os\n",
    "sys.path.append(os.path.abspath(os.path.join(os.getcwd(), '..')))"
   ]
  },
  {
   "cell_type": "code",
   "execution_count": 2,
   "id": "a21b0ffd",
   "metadata": {},
   "outputs": [
    {
     "name": "stdout",
     "output_type": "stream",
     "text": [
      "WARNING:tensorflow:From c:\\Users\\Duongw\\AppData\\Local\\Programs\\Python\\Python311\\Lib\\site-packages\\tf_keras\\src\\losses.py:2976: The name tf.losses.sparse_softmax_cross_entropy is deprecated. Please use tf.compat.v1.losses.sparse_softmax_cross_entropy instead.\n",
      "\n"
     ]
    }
   ],
   "source": [
    "# Import các thư viện cần thiết\n",
    "import json\n",
    "from pinecone.grpc import PineconeGRPC as Pinecone\n",
    "from dotenv import load_dotenv\n",
    "import os\n",
    "from sentence_transformers import SentenceTransformer\n",
    "import numpy as np\n",
    "from utils.load_chunks_json import load_chunks_from_json"
   ]
  },
  {
   "cell_type": "code",
   "execution_count": 3,
   "id": "e4ac1582",
   "metadata": {},
   "outputs": [
    {
     "name": "stdout",
     "output_type": "stream",
     "text": [
      "Embedding model dimension: 1024\n"
     ]
    }
   ],
   "source": [
    "# Khởi tạo các biến môi trường\n",
    "load_dotenv(\"../.env\")\n",
    "\n",
    "PINECONE_API_KEY = os.getenv(\"PINECONE_API_KEY\")\n",
    "HOST_DENSE = os.getenv(\"HOST_DENSE\")\n",
    "\n",
    "# Khởi tạo embedding model\n",
    "embedding_model = SentenceTransformer(\"AITeamVN/Vietnamese_Embedding\")\n",
    "embedding_model.max_seq_length = 2048\n",
    "\n",
    "print(f\"Embedding model dimension: {embedding_model.get_sentence_embedding_dimension()}\")"
   ]
  },
  {
   "cell_type": "code",
   "execution_count": 4,
   "id": "aac10a34",
   "metadata": {},
   "outputs": [
    {
     "name": "stdout",
     "output_type": "stream",
     "text": [
      "Đã kết nối thành công với Pinecone\n"
     ]
    }
   ],
   "source": [
    "# Kết nối Pinecone\n",
    "pc = Pinecone(api_key=PINECONE_API_KEY)\n",
    "dense_index = pc.Index(host=HOST_DENSE)\n",
    "\n",
    "print(\"Đã kết nối thành công với Pinecone\")"
   ]
  },
  {
   "cell_type": "code",
   "execution_count": 35,
   "id": "6ff304f5",
   "metadata": {},
   "outputs": [],
   "source": [
    "def parent_document_search(query, namespace=\"lich-su-dang-children\", top_k=10, alpha=0.7):\n",
    "    \"\"\"\n",
    "    Thực hiện Parent Document Retrieval\n",
    "    \n",
    "    Args:\n",
    "        query: Câu hỏi tìm kiếm của người dùng\n",
    "        namespace: Namespace chứa child chunks trong Pinecone\n",
    "        top_k: Số lượng parent chunks trả về\n",
    "        alpha: Trọng số cho việc ranking (0-1)\n",
    "               alpha = 1: chỉ dựa vào similarity score\n",
    "               alpha = 0: chỉ dựa vào số lượng child chunks\n",
    "    \n",
    "    Returns:\n",
    "        List các parent chunks được rank theo độ relevance\n",
    "    \"\"\"\n",
    "    \n",
    "    # Bước 1: Embed query thành vector\n",
    "    print(f\"Đang embed query: '{query}'\")\n",
    "    query_vector = embedding_model.encode(query).tolist()\n",
    "    \n",
    "    # Bước 2: Tìm kiếm child chunks có score cao\n",
    "    # Lấy nhiều child chunks để có đủ parent chunks đa dạng\n",
    "    child_results = dense_index.query(\n",
    "        vector=query_vector,\n",
    "        top_k=top_k * 2,  # Lấy gấp 3 lần để đảm bảo có đủ parent unique\n",
    "        include_metadata=True,\n",
    "        namespace=namespace\n",
    "    )\n",
    "    \n",
    "    print(f\"Tìm được {len(child_results.matches)} child chunks\")\n",
    "    \n",
    "    # Bước 3: Gom nhóm child chunks theo parent_id\n",
    "    parent_scores = {}  # parent_id -> tổng score\n",
    "    parent_child_count = {}  # parent_id -> số lượng child chunks\n",
    "    parent_best_score = {}  # parent_id -> score cao nhất\n",
    "    \n",
    "    for match in child_results.matches:\n",
    "        parent_id = match.metadata.get('parent_id')\n",
    "        \n",
    "        if parent_id:\n",
    "            # Khởi tạo nếu chưa có\n",
    "            if parent_id not in parent_scores:\n",
    "                parent_scores[parent_id] = 0\n",
    "                parent_child_count[parent_id] = 0\n",
    "                parent_best_score[parent_id] = 0\n",
    "            \n",
    "            # Cộng dồn score và đếm child chunks\n",
    "            parent_scores[parent_id] += match.score\n",
    "            parent_child_count[parent_id] += 1\n",
    "            parent_best_score[parent_id] = max(parent_best_score[parent_id], match.score)\n",
    "    \n",
    "    print(f\"Gom được {len(parent_scores)} parent IDs unique\")\n",
    "    \n",
    "    # Bước 4: Tính score tổng hợp và rank các parent chunks\n",
    "    ranked_parents = []\n",
    "    \n",
    "    for parent_id, total_score in parent_scores.items():\n",
    "        # Kiểm tra parent_id có tồn tại trong lookup table không\n",
    "        avg_score = total_score / parent_child_count[parent_id]\n",
    "        child_count = parent_child_count[parent_id]\n",
    "        best_score = parent_best_score[parent_id]\n",
    "        \n",
    "        # Normalize child count (giả sử max reasonable là 10 child chunks)\n",
    "        normalized_child_count = min(child_count / 10.0, 1.0)\n",
    "        \n",
    "        # Score cuối = alpha * avg_similarity + (1-alpha) * normalized_child_count\n",
    "        final_score = alpha * avg_score + (1 - alpha) * normalized_child_count\n",
    "        \n",
    "        # Lấy parent chunk từ lookup table\n",
    "        parent_chunk = dense_index.fetch(\n",
    "            ids=[parent_id],\n",
    "            namespace=\"lich-su-dang\"\n",
    "        )\n",
    "        \n",
    "        parent_chunk = dense_index.fetch(\n",
    "            ids=[f\"{parent_id}\"],\n",
    "            namespace=\"lich-su-dang\"\n",
    "        )['vectors'][f\"{parent_id}\"]\n",
    "                \n",
    "        # Thêm vào kết quả\n",
    "        ranked_parents.append({\n",
    "            'parent_chunk': parent_chunk,\n",
    "            'parent_id': parent_id,\n",
    "            'score': final_score,\n",
    "            'avg_child_score': avg_score,\n",
    "            'best_child_score': best_score,\n",
    "            'total_child_score': total_score,\n",
    "            'child_count': child_count\n",
    "        })\n",
    "    \n",
    "    # Bước 5: Sắp xếp theo score giảm dần và trả về top_k\n",
    "    ranked_parents.sort(key=lambda x: x['score'], reverse=True)\n",
    "    \n",
    "    print(f\"Ranked {len(ranked_parents)} parent chunks, trả về top {top_k}\")\n",
    "    \n",
    "    return ranked_parents[:top_k]"
   ]
  },
  {
   "cell_type": "code",
   "execution_count": 57,
   "id": "91041ea2",
   "metadata": {},
   "outputs": [
    {
     "name": "stdout",
     "output_type": "stream",
     "text": [
      "Query: Trình bày những biện pháp nhân nhượng của quân ta đối với quân Tưởng\n",
      "============================================================\n",
      "Đang embed query: 'Trình bày những biện pháp nhân nhượng của quân ta đối với quân Tưởng'\n",
      "Tìm được 20 child chunks\n",
      "Gom được 13 parent IDs unique\n",
      "Ranked 13 parent chunks, trả về top 10\n",
      "\n",
      "Kết quả tìm kiếm: 10 parent chunks\n",
      "============================================================\n"
     ]
    }
   ],
   "source": [
    "test_query = \"Trình bày những biện pháp nhân nhượng của quân ta đối với quân Tưởng\"\n",
    "\n",
    "print(f\"Query: {test_query}\")\n",
    "print(\"=\" * 60)\n",
    "\n",
    "results = parent_document_search(test_query)\n",
    "\n",
    "print(f\"\\nKết quả tìm kiếm: {len(results)} parent chunks\")\n",
    "print(\"=\" * 60)"
   ]
  },
  {
   "cell_type": "code",
   "execution_count": 62,
   "id": "3c38175e",
   "metadata": {},
   "outputs": [],
   "source": [
    "from google import genai\n",
    "\n",
    "def generate_answer(input_query, context):\n",
    "    prompt = f\"\"\"\n",
    "    Mày là một chuyên gia trong việc trả lời các môn học đại cương về chính trị bậc đại học không chính quy.\n",
    "    \n",
    "    Dưới đây chính là query của người dùng về các câu hỏi liên quan tới các môn chính trị. \n",
    "    {input_query}\n",
    "    \n",
    "    Còn dưới đây là những context được cung cấp đên mày để trả lời câu hỏi của người dùng.\n",
    "    {context}\n",
    "    \n",
    "    Yêu cầu khi trả lời:\n",
    "    - Tóm tắt và tổng hợp thông tin từ các đoạn context có liên quan.\n",
    "    - Hạn chế sao chép nguyên văn toàn bộ một đoạn nào từ context.\n",
    "    - Văn phong rõ ràng, súc tích, mang tính học thuật.\n",
    "    - Hãy ghi nguồn gốc của thông tin trong câu trả lời bằng id của đoạn văn bản trong context, đặt id ở cuối thông tin đó.\n",
    "    - Dựa vào nhưng thông tin trên, mày hãy thực hiện trả lời câu hỏi của người dùng. Chỉ trả lời theo nội dung context cung cấp. Nếu những nội dung đó không liên quan đến câu hỏi thì trả lời \"Context không liên quan\".\n",
    "    \"\"\"\n",
    "    # prompt = f\"\"\"Bạn là một Generator chuyên nghiệp, được giao nhiệm vụ trả lời câu hỏi dựa trên các đoạn văn bản sau (context). \n",
    "    # ---\n",
    "\n",
    "    # Câu hỏi: {input_query}\n",
    "\n",
    "    # Context:\n",
    "    # {context}\n",
    "    # Context là một tuple (metadata, id) sẽ chứa metadata, trong metadata sẽ có content là nội dung để trả lời câu hỏi. Metadata là thông tin bổ sung cho trích dẫn nguồn.\n",
    "    # Phần id cũng sử dụng để trích dẫn nguồn. Thêm vào để xác định nguồn gốc của thông tin trong câu trả lời. Hãy thêm vào cuối câu trả lời liên quan. \n",
    "    \n",
    "    # QUAN TRỌNG: \n",
    "    # - *Chỉ được sử dụng thông tin có trong context.* \n",
    "    # - *Không được đưa ra bất kỳ suy đoán, bổ sung, hay kiến thức bên ngoài nào.* \n",
    "    # - Nếu không tìm thấy câu trả lời trong context, hãy trả lời: *\"Thông tin không có trong đoạn văn được cung cấp.\"*\n",
    "\n",
    "    # Yêu cầu khi trả lời:\n",
    "    # - Tóm tắt và tổng hợp thông tin từ các đoạn context có liên quan.\n",
    "    # - Hạn chế sao chép nguyên văn toàn bộ một đoạn nào từ context.\n",
    "    # - Văn phong rõ ràng, súc tích, mang tính học thuật.\n",
    "    # - Hãy ghi nguồn gốc của thông tin trong câu trả lời bằng id của đoạn văn bản trong context, đặt id ở cuối thông tin đó.\n",
    "    # \"\"\"\n",
    "    \n",
    "    \n",
    "    client = genai.Client(api_key=os.getenv(\"GEMINI_API_KEY\"))\n",
    "    response = client.models.generate_content(\n",
    "        model=\"gemini-2.5-flash\",\n",
    "        contents=prompt,\n",
    "    )\n",
    "\n",
    "    return response.text"
   ]
  },
  {
   "cell_type": "code",
   "execution_count": null,
   "id": "72ac80d2",
   "metadata": {},
   "outputs": [
    {
     "data": {
      "text/plain": [
       "'LSD_chunk_00093'"
      ]
     },
     "execution_count": 53,
     "metadata": {},
     "output_type": "execute_result"
    }
   ],
   "source": [
    "results[0]['parent_id']"
   ]
  },
  {
   "cell_type": "code",
   "execution_count": 63,
   "id": "bd3c29dc",
   "metadata": {},
   "outputs": [
    {
     "data": {
      "text/plain": [
       "'Để đối phó với âm mưu \"diệt Cộng, cầm Hồ, phá Việt Minh\" của quân Tưởng Giới Thạch và tay sai, Đảng và Chính phủ Hồ Chí Minh đã chủ trương thực hiện sách lược \"hòa hoãn, nhân nhượng có nguyên tắc\" nhằm bảo vệ chính quyền cách mạng non trẻ. Các biện pháp nhân nhượng cụ thể bao gồm:\\n\\n1.  **Về chính trị và tổ chức:**\\n    *   Đảng Cộng sản Đông Dương tự nguyện công bố \"tự giải tán\" vào ngày 11-11-1945, rút vào hoạt động bí mật và chỉ để lại một bộ phận hoạt động công khai dưới danh nghĩa \"Hội nghiên cứu chủ nghĩa Mác ở Đông Dương\" để tránh mũi nhọn tấn công của kẻ thù. (LSD_chunk_00102)\\n    *   Sau cuộc bầu cử Quốc hội, Chủ tịch Hồ Chí Minh đã chấp nhận mở rộng thành phần đại biểu Quốc hội bằng cách bổ sung thêm 70 ghế không qua bầu cử cho một số đảng viên thuộc Việt Cách, Việt Quốc – các tổ chức tay sai của Tưởng. (LSD_chunk_00102)\\n    *   Chính phủ liên hiệp được cải tổ và mở rộng, với sự tham gia của nhiều nhân sĩ, trí thức, người không đảng phái, và cả một số phần tử cầm đầu các tổ chức phản động tay sai của quân Tưởng, trong đó có cả những ghế Bộ trưởng quan trọng. (LSD_chunk_00102)\\n\\n2.  **Về kinh tế và tài chính:**\\n    *   Chính phủ Việt Nam đồng ý đảm bảo cung cấp lương thực, thực phẩm cần thiết cho khoảng 20 vạn quân Tưởng đang đóng tại Việt Nam. (LSD_chunk_00102)\\n    *   Quân Tưởng được nhân nhượng cho phép sử dụng đồng tiền Quan kim, Quốc tệ song hành cùng đồng bạc Đông Dương. (LSD_chunk_00102)\\n\\n3.  **Về sách lược ngoại giao:**\\n    *   Đảng và Chính phủ đã đề ra nhiều đối sách khôn khéo để đối phó hiệu quả với các hoạt động khiêu khích, gây xung đột vũ trang của quân Tưởng, đồng thời thực hiện giao thiệp thân thiện và ứng xử mềm dẻo, linh hoạt với các yêu sách của quân Tưởng và các đảng phái tay sai của họ, đặc biệt là Việt Quốc và Việt Cách. (LSD_chunk_00101)\\n    *   Chủ trương đối với Tưởng là \"Hoa-Việt thân thiện\" nhằm củng cố chính quyền và hạn chế kẻ thù. (LSD_chunk_00096)\\n    *   Một biện pháp quan trọng là ký kết Hiệp định Sơ bộ với Pháp vào ngày 6-3-1946, trong đó Việt Nam đồng ý cho 15.000 quân Pháp ra miền Bắc thay thế 20 vạn quân Tưởng rút về nước. Mục tiêu của hành động này là để \"thúc đẩy nhanh quân Tưởng về nước, bớt đi một kẻ thù nguy hiểm\". (LSD_chunk_00103)'"
      ]
     },
     "execution_count": 63,
     "metadata": {},
     "output_type": "execute_result"
    }
   ],
   "source": [
    "context_list = [(result['parent_chunk']['metadata'], result['parent_id']) for result in results]\n",
    "len(context_list)\n",
    "result = generate_answer(test_query, context_list)\n",
    "result"
   ]
  },
  {
   "cell_type": "code",
   "execution_count": 64,
   "id": "5fd48034",
   "metadata": {},
   "outputs": [
    {
     "name": "stdout",
     "output_type": "stream",
     "text": [
      "Để đối phó với âm mưu \"diệt Cộng, cầm Hồ, phá Việt Minh\" của quân Tưởng Giới Thạch và tay sai, Đảng và Chính phủ Hồ Chí Minh đã chủ trương thực hiện sách lược \"hòa hoãn, nhân nhượng có nguyên tắc\" nhằm bảo vệ chính quyền cách mạng non trẻ. Các biện pháp nhân nhượng cụ thể bao gồm:\n",
      "\n",
      "1.  **Về chính trị và tổ chức:**\n",
      "    *   Đảng Cộng sản Đông Dương tự nguyện công bố \"tự giải tán\" vào ngày 11-11-1945, rút vào hoạt động bí mật và chỉ để lại một bộ phận hoạt động công khai dưới danh nghĩa \"Hội nghiên cứu chủ nghĩa Mác ở Đông Dương\" để tránh mũi nhọn tấn công của kẻ thù. (LSD_chunk_00102)\n",
      "    *   Sau cuộc bầu cử Quốc hội, Chủ tịch Hồ Chí Minh đã chấp nhận mở rộng thành phần đại biểu Quốc hội bằng cách bổ sung thêm 70 ghế không qua bầu cử cho một số đảng viên thuộc Việt Cách, Việt Quốc – các tổ chức tay sai của Tưởng. (LSD_chunk_00102)\n",
      "    *   Chính phủ liên hiệp được cải tổ và mở rộng, với sự tham gia của nhiều nhân sĩ, trí thức, người không đảng phái, và cả một số phần tử cầm đầu các tổ chức phản động tay sai của quân Tưởng, trong đó có cả những ghế Bộ trưởng quan trọng. (LSD_chunk_00102)\n",
      "\n",
      "2.  **Về kinh tế và tài chính:**\n",
      "    *   Chính phủ Việt Nam đồng ý đảm bảo cung cấp lương thực, thực phẩm cần thiết cho khoảng 20 vạn quân Tưởng đang đóng tại Việt Nam. (LSD_chunk_00102)\n",
      "    *   Quân Tưởng được nhân nhượng cho phép sử dụng đồng tiền Quan kim, Quốc tệ song hành cùng đồng bạc Đông Dương. (LSD_chunk_00102)\n",
      "\n",
      "3.  **Về sách lược ngoại giao:**\n",
      "    *   Đảng và Chính phủ đã đề ra nhiều đối sách khôn khéo để đối phó hiệu quả với các hoạt động khiêu khích, gây xung đột vũ trang của quân Tưởng, đồng thời thực hiện giao thiệp thân thiện và ứng xử mềm dẻo, linh hoạt với các yêu sách của quân Tưởng và các đảng phái tay sai của họ, đặc biệt là Việt Quốc và Việt Cách. (LSD_chunk_00101)\n",
      "    *   Chủ trương đối với Tưởng là \"Hoa-Việt thân thiện\" nhằm củng cố chính quyền và hạn chế kẻ thù. (LSD_chunk_00096)\n",
      "    *   Một biện pháp quan trọng là ký kết Hiệp định Sơ bộ với Pháp vào ngày 6-3-1946, trong đó Việt Nam đồng ý cho 15.000 quân Pháp ra miền Bắc thay thế 20 vạn quân Tưởng rút về nước. Mục tiêu của hành động này là để \"thúc đẩy nhanh quân Tưởng về nước, bớt đi một kẻ thù nguy hiểm\". (LSD_chunk_00103)\n"
     ]
    }
   ],
   "source": [
    "print(result)"
   ]
  },
  {
   "cell_type": "code",
   "execution_count": null,
   "id": "d7b657bc",
   "metadata": {},
   "outputs": [],
   "source": []
  }
 ],
 "metadata": {
  "kernelspec": {
   "display_name": "Python 3",
   "language": "python",
   "name": "python3"
  },
  "language_info": {
   "codemirror_mode": {
    "name": "ipython",
    "version": 3
   },
   "file_extension": ".py",
   "mimetype": "text/x-python",
   "name": "python",
   "nbconvert_exporter": "python",
   "pygments_lexer": "ipython3",
   "version": "3.11.8"
  }
 },
 "nbformat": 4,
 "nbformat_minor": 5
}
