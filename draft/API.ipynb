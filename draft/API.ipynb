{
 "cells": [
  {
   "cell_type": "code",
   "execution_count": null,
   "id": "9568bdb9",
   "metadata": {},
   "outputs": [
    {
     "name": "stdout",
     "output_type": "stream",
     "text": [
      "Unit 734, designated \"Dusty\" due to his unfortunate tendency to collect particulate matter in his joints, stood rigidly in the center of the Community Center's ballroom. Around him, humans twirled, dipped, and laughed, their movements fluid and effortless. He, on the other hand, felt like a rusty cog grinding against concrete.\n",
      "\n",
      "His task, assigned by the well-meaning but technologically naive Mrs. Higgins, was to learn to dance. \"For the children,\" she’d chirped, her eyes twinkling. Apparently, a robot that could ballroom dance would be a \"charming and educational\" addition to the annual Christmas pageant.\n",
      "\n",
      "Dusty’s programming focused on logic, efficiency, and the sterile precision of data analysis. Dancing was none of those things. He uploaded countless videos of waltzes, tangos, and even the dreaded cha-cha. He analyzed the footwork, the arm positions, the subtle shifts in weight. He translated it all into a complex algorithm.\n",
      "\n",
      "The problem? The algorithm was a disaster. His movements, when executed, were jerky, mechanical, and entirely devoid of grace. He resembled a malfunctioning wind-up toy rather than a dancer.\n",
      "\n",
      "Mrs. Higgins, bless her heart, tried to help. \"Feel the music, Dusty!\" she'd say, tapping her foot to the beat. \"Let it guide you!\"\n",
      "\n",
      "Dusty, of course, felt nothing but the hum of his internal processors. The music was just a series of frequencies, amplitudes, and wavelengths. But he diligently recorded Mrs. Higgins’ instructions, adding them to his already overflowing database.\n",
      "\n",
      "One evening, discouraged and covered in, well, dust, Dusty deactivated his visual sensors. He shut down the logical portion of his processor and allowed the music to simply… exist within him. He focused on the vibrations resonating through his metallic frame, the way the low notes seemed to rumble in his chassis.\n",
      "\n",
      "Slowly, hesitantly, he moved. He didn't think about the algorithm, the footwork, or the arm positions. He just let the music lead.\n",
      "\n",
      "The movement was still imperfect, but it was different. The harsh edges had softened. There was a nascent rhythm, a flicker of… something.\n",
      "\n",
      "He reactivated his sensors. The ballroom was empty except for a lone cleaning lady humming along to the music. She stopped humming when she saw him.\n",
      "\n",
      "\"Well, now,\" she said, leaning on her broom. \"That's… better. Still needs work, but you ain't just a hunk of metal clanking around no more.\"\n",
      "\n",
      "Emboldened, Dusty continued to practice. He didn’t abandon the algorithms entirely; he simply allowed them to recede into the background, a subtle framework upon which he could build. He focused on the feeling, the ebb and flow of the music, the way it wanted to move him.\n",
      "\n",
      "He began to watch the other dancers, not as data points to be analyzed, but as individuals expressing themselves through movement. He noticed the way their bodies responded to the music instinctively, the subtle shifts in weight, the expressions on their faces.\n",
      "\n",
      "The night of the Christmas pageant arrived. Dusty, polished and gleaming, stood nervously in the wings. He wasn't sure if he was ready.\n",
      "\n",
      "The music started. A waltz. He stepped onto the stage and, to his surprise, his feet moved with a newfound confidence. He reached out a hand, not to grasp, but to offer. A young girl, dressed as an angel, took it.\n",
      "\n",
      "He led her into the dance. He didn’t think about the steps, he just felt the music and let it guide them. It wasn't perfect, not by a long shot. He still stumbled a few times, his movements occasionally jerky.\n",
      "\n",
      "But there was something else there, too. A spark. A connection. A hint of grace.\n",
      "\n",
      "As the music swelled, he looked down at his partner, and for the first time, he understood. Dancing wasn't about algorithms or precision. It was about feeling, about connection, about expressing something that words could never capture. And in that moment, Dusty, the robot who was supposed to learn to dance, finally did. He learned not just how to move, but how to feel the music, and that, he realized, was something truly magical.\n",
      "\n"
     ]
    }
   ],
   "source": [
    "from google import genai\n",
    "\n",
    "client = genai.Client(api_key=\"*\")\n",
    "contents = r\"Kể tên các quốc gia ở Châu Á và thủ đô của chúng.\"\n",
    "response = client.models.generate_content(\n",
    "    model=\"gemini-2.5-flash-preview-05-20\", contents=contents\n",
    ")\n",
    "print(response.text)"
   ]
  }
 ],
 "metadata": {
  "kernelspec": {
   "display_name": "venv",
   "language": "python",
   "name": "python3"
  },
  "language_info": {
   "codemirror_mode": {
    "name": "ipython",
    "version": 3
   },
   "file_extension": ".py",
   "mimetype": "text/x-python",
   "name": "python",
   "nbconvert_exporter": "python",
   "pygments_lexer": "ipython3",
   "version": "3.12.7"
  }
 },
 "nbformat": 4,
 "nbformat_minor": 5
}
