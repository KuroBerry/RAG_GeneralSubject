{
 "cells": [
  {
   "cell_type": "code",
   "execution_count": null,
   "id": "abbda1bd",
   "metadata": {},
   "outputs": [],
   "source": [
    "import pandas as pd\n",
    "from ragas.metrics import (\n",
    "    answer_relevancy,\n",
    "    faithfulness,\n",
    "    context_precision,\n",
    "    context_recall\n",
    ")\n",
    "from ragas import evaluate"
   ]
  },
  {
   "cell_type": "code",
   "execution_count": null,
   "id": "a9a97354",
   "metadata": {},
   "outputs": [],
   "source": [
    "so sánh gt vs res\n",
    "so sánh retrieved docs vs res"
   ]
  },
  {
   "cell_type": "code",
   "execution_count": 5,
   "id": "7e5b8a83",
   "metadata": {},
   "outputs": [
    {
     "data": {
      "text/html": [
       "<div>\n",
       "<style scoped>\n",
       "    .dataframe tbody tr th:only-of-type {\n",
       "        vertical-align: middle;\n",
       "    }\n",
       "\n",
       "    .dataframe tbody tr th {\n",
       "        vertical-align: top;\n",
       "    }\n",
       "\n",
       "    .dataframe thead th {\n",
       "        text-align: right;\n",
       "    }\n",
       "</style>\n",
       "<table border=\"1\" class=\"dataframe\">\n",
       "  <thead>\n",
       "    <tr style=\"text-align: right;\">\n",
       "      <th></th>\n",
       "      <th>question</th>\n",
       "      <th>ground_truth_answer</th>\n",
       "    </tr>\n",
       "  </thead>\n",
       "  <tbody>\n",
       "    <tr>\n",
       "      <th>0</th>\n",
       "      <td>Chiến lược chung của ĐCSVN trong cuộc Tổng khở...</td>\n",
       "      <td>Đảng lãnh đạo nhân dân thực hiện Tổng khởi ngh...</td>\n",
       "    </tr>\n",
       "    <tr>\n",
       "      <th>1</th>\n",
       "      <td>Hội Việt Nam Cách mạng Thanh niên (1925) do Ng...</td>\n",
       "      <td>Hội Việt Nam Cách mạng Thanh niên ra đời năm 1...</td>\n",
       "    </tr>\n",
       "    <tr>\n",
       "      <th>2</th>\n",
       "      <td>Phong trào \"vô sản hóa\" (từ 1928) trong công n...</td>\n",
       "      <td>Phong trào \"vô sản hóa\" được Hội Việt Nam Cách...</td>\n",
       "    </tr>\n",
       "    <tr>\n",
       "      <th>3</th>\n",
       "      <td>Hội Việt Nam Cách mạng Thanh niên đã tiến hành...</td>\n",
       "      <td>Hội đã xuất bản báo Thanh Niên (xuất bản ở Tru...</td>\n",
       "    </tr>\n",
       "    <tr>\n",
       "      <th>4</th>\n",
       "      <td>Cuối năm 1929 có những tổ chức cộng sản nào đư...</td>\n",
       "      <td>Cuối năm 1929, tại các vùng Việt Nam lần lượt ...</td>\n",
       "    </tr>\n",
       "  </tbody>\n",
       "</table>\n",
       "</div>"
      ],
      "text/plain": [
       "                                            question  \\\n",
       "0  Chiến lược chung của ĐCSVN trong cuộc Tổng khở...   \n",
       "1  Hội Việt Nam Cách mạng Thanh niên (1925) do Ng...   \n",
       "2  Phong trào \"vô sản hóa\" (từ 1928) trong công n...   \n",
       "3  Hội Việt Nam Cách mạng Thanh niên đã tiến hành...   \n",
       "4  Cuối năm 1929 có những tổ chức cộng sản nào đư...   \n",
       "\n",
       "                                 ground_truth_answer  \n",
       "0  Đảng lãnh đạo nhân dân thực hiện Tổng khởi ngh...  \n",
       "1  Hội Việt Nam Cách mạng Thanh niên ra đời năm 1...  \n",
       "2  Phong trào \"vô sản hóa\" được Hội Việt Nam Cách...  \n",
       "3  Hội đã xuất bản báo Thanh Niên (xuất bản ở Tru...  \n",
       "4  Cuối năm 1929, tại các vùng Việt Nam lần lượt ...  "
      ]
     },
     "execution_count": 5,
     "metadata": {},
     "output_type": "execute_result"
    }
   ],
   "source": [
    "path = \"lich_su_dang.csv\"\n",
    "load_csv = pd.read_csv(path)\n",
    "load_csv.head()"
   ]
  },
  {
   "cell_type": "code",
   "execution_count": 52,
   "id": "3c4bee99",
   "metadata": {},
   "outputs": [],
   "source": [
    "eval_questions = load_csv['question'].tolist()\n",
    "eval_answers = load_csv['ground_truth_answer'].tolist()"
   ]
  },
  {
   "cell_type": "code",
   "execution_count": 8,
   "id": "86659d4f",
   "metadata": {},
   "outputs": [],
   "source": [
    "eval_samples = [\n",
    "    {\"query\": q, \"ground_truth\": [eval_answers[i]]}\n",
    "    for i, q in enumerate(eval_questions)\n",
    "]"
   ]
  },
  {
   "cell_type": "code",
   "execution_count": 40,
   "id": "32b3039f",
   "metadata": {},
   "outputs": [],
   "source": [
    "# Alternative import method if above doesn't work\n",
    "import sys\n",
    "sys.path.append('..')\n",
    "\n",
    "\n",
    "from retriever.parent_retrieval import parent_document_search\n",
    "import agent\n"
   ]
  },
  {
   "cell_type": "code",
   "execution_count": 58,
   "id": "4e44ee49",
   "metadata": {},
   "outputs": [
    {
     "name": "stdout",
     "output_type": "stream",
     "text": [
      "Found 70 contexts (should be 70)\n",
      "First context has 5 documents\n",
      "First document length: 1996\n"
     ]
    }
   ],
   "source": [
    "# Fix: parent_document_search returns a list, not a dict\n",
    "contexts = []\n",
    "for q in eval_questions:\n",
    "    results = parent_document_search(q, 'lich-su-dang-children', 'lich-su-dang')\n",
    "    contx = []\n",
    "    if results:  # Check if results is not empty\n",
    "        for res in results:\n",
    "            # Get content from each result\n",
    "            content = res['parent_chunk']['metadata']['content']\n",
    "            contx.append(content)\n",
    "        # Add the combined context for this question\n",
    "        contexts.append(contx)\n",
    "    else:\n",
    "        contexts.append([])  # Empty list if no results\n",
    "        \n",
    "print(f\"Found {len(contexts)} contexts (should be {len(eval_questions)})\")\n",
    "print(f\"First context has {len(contexts[0])} documents\")\n",
    "if contexts[0]:\n",
    "    print(f\"First document length: {len(contexts[0][0])}\")\n",
    "# answers = [agent.generate_answer(q, c, agent.get_router(q), None, \"gemini-2.5-pro\") for q, c in zip(eval_questions, contexts)]"
   ]
  },
  {
   "cell_type": "code",
   "execution_count": 57,
   "id": "7a9f0b17",
   "metadata": {},
   "outputs": [
    {
     "data": {
      "text/plain": [
       "70"
      ]
     },
     "execution_count": 57,
     "metadata": {},
     "output_type": "execute_result"
    }
   ],
   "source": [
    "len(eval_questions)"
   ]
  },
  {
   "cell_type": "code",
   "execution_count": 46,
   "id": "9bd2cef7",
   "metadata": {},
   "outputs": [
    {
     "name": "stdout",
     "output_type": "stream",
     "text": [
      "Checking namespaces...\n",
      "Available namespaces: ['lich-su-dang-children', 'triet-hoc', 'triet-hoc-children', 'lich-su-dang']\n"
     ]
    }
   ],
   "source": [
    "# Debug parent_document_search function\n",
    "import retriever.cache_data as cache_data\n",
    "\n",
    "# Kiểm tra kết nối Pinecone\n",
    "dense_index, sparse_index = cache_data.get_pinecone_index()\n",
    "\n",
    "# Kiểm tra namespaces có sẵn\n",
    "print(\"Checking namespaces...\")\n",
    "child_stats = dense_index.describe_index_stats()\n",
    "print(\"Available namespaces:\", list(child_stats.namespaces.keys()))"
   ]
  },
  {
   "cell_type": "code",
   "execution_count": null,
   "id": "46de77bf",
   "metadata": {},
   "outputs": [],
   "source": []
  }
 ],
 "metadata": {
  "kernelspec": {
   "display_name": "Python 3",
   "language": "python",
   "name": "python3"
  },
  "language_info": {
   "codemirror_mode": {
    "name": "ipython",
    "version": 3
   },
   "file_extension": ".py",
   "mimetype": "text/x-python",
   "name": "python",
   "nbconvert_exporter": "python",
   "pygments_lexer": "ipython3",
   "version": "3.11.8"
  }
 },
 "nbformat": 4,
 "nbformat_minor": 5
}
